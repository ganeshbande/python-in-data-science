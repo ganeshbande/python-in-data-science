{
 "cells": [
  {
   "cell_type": "markdown",
   "id": "80b8d550",
   "metadata": {},
   "source": [
    "### ASSIGNMENT - 8\n",
    "\n",
    "### TOPIC : NLP\n",
    "\n",
    "### MODEL : AMAZON REVIEW\n",
    "\n",
    "# "
   ]
  },
  {
   "cell_type": "code",
   "execution_count": 1,
   "id": "15e517b6",
   "metadata": {},
   "outputs": [],
   "source": [
    "import pandas as pd\n",
    "\n",
    "import numpy as np\n",
    "\n",
    "from sklearn.metrics import confusion_matrix , accuracy_score\n",
    "\n",
    "from sklearn.tree import DecisionTreeClassifier\n",
    "\n",
    "DT = DecisionTreeClassifier ( )\n",
    "\n",
    "from sklearn.naive_bayes import MultinomialNB\n",
    "\n",
    "NB = MultinomialNB ( )\n",
    "\n",
    "from sklearn.model_selection import train_test_split\n",
    "\n",
    "pd.set_option ( \"display.max_columns\" , None )\n",
    "\n",
    "from nltk.corpus import stopwords\n",
    "\n",
    "import string\n",
    "\n",
    "from sklearn.feature_extraction.text import CountVectorizer "
   ]
  },
  {
   "cell_type": "code",
   "execution_count": 2,
   "id": "dd0b8dc0",
   "metadata": {},
   "outputs": [
    {
     "data": {
      "text/html": [
       "<div>\n",
       "<style scoped>\n",
       "    .dataframe tbody tr th:only-of-type {\n",
       "        vertical-align: middle;\n",
       "    }\n",
       "\n",
       "    .dataframe tbody tr th {\n",
       "        vertical-align: top;\n",
       "    }\n",
       "\n",
       "    .dataframe thead th {\n",
       "        text-align: right;\n",
       "    }\n",
       "</style>\n",
       "<table border=\"1\" class=\"dataframe\">\n",
       "  <thead>\n",
       "    <tr style=\"text-align: right;\">\n",
       "      <th></th>\n",
       "      <th>Id</th>\n",
       "      <th>ProductId</th>\n",
       "      <th>UserId</th>\n",
       "      <th>ProfileName</th>\n",
       "      <th>HelpfulnessNumerator</th>\n",
       "      <th>HelpfulnessDenominator</th>\n",
       "      <th>Score</th>\n",
       "      <th>Time</th>\n",
       "      <th>Summary</th>\n",
       "      <th>Text</th>\n",
       "    </tr>\n",
       "  </thead>\n",
       "  <tbody>\n",
       "    <tr>\n",
       "      <th>0</th>\n",
       "      <td>1</td>\n",
       "      <td>B001E4KFG0</td>\n",
       "      <td>A3SGXH7AUHU8GW</td>\n",
       "      <td>delmartian</td>\n",
       "      <td>1</td>\n",
       "      <td>1</td>\n",
       "      <td>5</td>\n",
       "      <td>1303862400</td>\n",
       "      <td>Good Quality Dog Food</td>\n",
       "      <td>I have bought several of the Vitality canned d...</td>\n",
       "    </tr>\n",
       "    <tr>\n",
       "      <th>1</th>\n",
       "      <td>2</td>\n",
       "      <td>B00813GRG4</td>\n",
       "      <td>A1D87F6ZCVE5NK</td>\n",
       "      <td>dll pa</td>\n",
       "      <td>0</td>\n",
       "      <td>0</td>\n",
       "      <td>1</td>\n",
       "      <td>1346976000</td>\n",
       "      <td>Not as Advertised</td>\n",
       "      <td>Product arrived labeled as Jumbo Salted Peanut...</td>\n",
       "    </tr>\n",
       "    <tr>\n",
       "      <th>2</th>\n",
       "      <td>3</td>\n",
       "      <td>B000LQOCH0</td>\n",
       "      <td>ABXLMWJIXXAIN</td>\n",
       "      <td>Natalia Corres \"Natalia Corres\"</td>\n",
       "      <td>1</td>\n",
       "      <td>1</td>\n",
       "      <td>4</td>\n",
       "      <td>1219017600</td>\n",
       "      <td>\"Delight\" says it all</td>\n",
       "      <td>This is a confection that has been around a fe...</td>\n",
       "    </tr>\n",
       "    <tr>\n",
       "      <th>3</th>\n",
       "      <td>4</td>\n",
       "      <td>B000UA0QIQ</td>\n",
       "      <td>A395BORC6FGVXV</td>\n",
       "      <td>Karl</td>\n",
       "      <td>3</td>\n",
       "      <td>3</td>\n",
       "      <td>2</td>\n",
       "      <td>1307923200</td>\n",
       "      <td>Cough Medicine</td>\n",
       "      <td>If you are looking for the secret ingredient i...</td>\n",
       "    </tr>\n",
       "    <tr>\n",
       "      <th>4</th>\n",
       "      <td>5</td>\n",
       "      <td>B006K2ZZ7K</td>\n",
       "      <td>A1UQRSCLF8GW1T</td>\n",
       "      <td>Michael D. Bigham \"M. Wassir\"</td>\n",
       "      <td>0</td>\n",
       "      <td>0</td>\n",
       "      <td>5</td>\n",
       "      <td>1350777600</td>\n",
       "      <td>Great taffy</td>\n",
       "      <td>Great taffy at a great price.  There was a wid...</td>\n",
       "    </tr>\n",
       "    <tr>\n",
       "      <th>...</th>\n",
       "      <td>...</td>\n",
       "      <td>...</td>\n",
       "      <td>...</td>\n",
       "      <td>...</td>\n",
       "      <td>...</td>\n",
       "      <td>...</td>\n",
       "      <td>...</td>\n",
       "      <td>...</td>\n",
       "      <td>...</td>\n",
       "      <td>...</td>\n",
       "    </tr>\n",
       "    <tr>\n",
       "      <th>568449</th>\n",
       "      <td>568450</td>\n",
       "      <td>B001EO7N10</td>\n",
       "      <td>A28KG5XORO54AY</td>\n",
       "      <td>Lettie D. Carter</td>\n",
       "      <td>0</td>\n",
       "      <td>0</td>\n",
       "      <td>5</td>\n",
       "      <td>1299628800</td>\n",
       "      <td>Will not do without</td>\n",
       "      <td>Great for sesame chicken..this is a good if no...</td>\n",
       "    </tr>\n",
       "    <tr>\n",
       "      <th>568450</th>\n",
       "      <td>568451</td>\n",
       "      <td>B003S1WTCU</td>\n",
       "      <td>A3I8AFVPEE8KI5</td>\n",
       "      <td>R. Sawyer</td>\n",
       "      <td>0</td>\n",
       "      <td>0</td>\n",
       "      <td>2</td>\n",
       "      <td>1331251200</td>\n",
       "      <td>disappointed</td>\n",
       "      <td>I'm disappointed with the flavor. The chocolat...</td>\n",
       "    </tr>\n",
       "    <tr>\n",
       "      <th>568451</th>\n",
       "      <td>568452</td>\n",
       "      <td>B004I613EE</td>\n",
       "      <td>A121AA1GQV751Z</td>\n",
       "      <td>pksd \"pk_007\"</td>\n",
       "      <td>2</td>\n",
       "      <td>2</td>\n",
       "      <td>5</td>\n",
       "      <td>1329782400</td>\n",
       "      <td>Perfect for our maltipoo</td>\n",
       "      <td>These stars are small, so you can give 10-15 o...</td>\n",
       "    </tr>\n",
       "    <tr>\n",
       "      <th>568452</th>\n",
       "      <td>568453</td>\n",
       "      <td>B004I613EE</td>\n",
       "      <td>A3IBEVCTXKNOH</td>\n",
       "      <td>Kathy A. Welch \"katwel\"</td>\n",
       "      <td>1</td>\n",
       "      <td>1</td>\n",
       "      <td>5</td>\n",
       "      <td>1331596800</td>\n",
       "      <td>Favorite Training and reward treat</td>\n",
       "      <td>These are the BEST treats for training and rew...</td>\n",
       "    </tr>\n",
       "    <tr>\n",
       "      <th>568453</th>\n",
       "      <td>568454</td>\n",
       "      <td>B001LR2CU2</td>\n",
       "      <td>A3LGQPJCZVL9UC</td>\n",
       "      <td>srfell17</td>\n",
       "      <td>0</td>\n",
       "      <td>0</td>\n",
       "      <td>5</td>\n",
       "      <td>1338422400</td>\n",
       "      <td>Great Honey</td>\n",
       "      <td>I am very satisfied ,product is as advertised,...</td>\n",
       "    </tr>\n",
       "  </tbody>\n",
       "</table>\n",
       "<p>568454 rows × 10 columns</p>\n",
       "</div>"
      ],
      "text/plain": [
       "            Id   ProductId          UserId                      ProfileName  \\\n",
       "0            1  B001E4KFG0  A3SGXH7AUHU8GW                       delmartian   \n",
       "1            2  B00813GRG4  A1D87F6ZCVE5NK                           dll pa   \n",
       "2            3  B000LQOCH0   ABXLMWJIXXAIN  Natalia Corres \"Natalia Corres\"   \n",
       "3            4  B000UA0QIQ  A395BORC6FGVXV                             Karl   \n",
       "4            5  B006K2ZZ7K  A1UQRSCLF8GW1T    Michael D. Bigham \"M. Wassir\"   \n",
       "...        ...         ...             ...                              ...   \n",
       "568449  568450  B001EO7N10  A28KG5XORO54AY                 Lettie D. Carter   \n",
       "568450  568451  B003S1WTCU  A3I8AFVPEE8KI5                        R. Sawyer   \n",
       "568451  568452  B004I613EE  A121AA1GQV751Z                    pksd \"pk_007\"   \n",
       "568452  568453  B004I613EE   A3IBEVCTXKNOH          Kathy A. Welch \"katwel\"   \n",
       "568453  568454  B001LR2CU2  A3LGQPJCZVL9UC                         srfell17   \n",
       "\n",
       "        HelpfulnessNumerator  HelpfulnessDenominator  Score        Time  \\\n",
       "0                          1                       1      5  1303862400   \n",
       "1                          0                       0      1  1346976000   \n",
       "2                          1                       1      4  1219017600   \n",
       "3                          3                       3      2  1307923200   \n",
       "4                          0                       0      5  1350777600   \n",
       "...                      ...                     ...    ...         ...   \n",
       "568449                     0                       0      5  1299628800   \n",
       "568450                     0                       0      2  1331251200   \n",
       "568451                     2                       2      5  1329782400   \n",
       "568452                     1                       1      5  1331596800   \n",
       "568453                     0                       0      5  1338422400   \n",
       "\n",
       "                                   Summary  \\\n",
       "0                    Good Quality Dog Food   \n",
       "1                        Not as Advertised   \n",
       "2                    \"Delight\" says it all   \n",
       "3                           Cough Medicine   \n",
       "4                              Great taffy   \n",
       "...                                    ...   \n",
       "568449                 Will not do without   \n",
       "568450                        disappointed   \n",
       "568451            Perfect for our maltipoo   \n",
       "568452  Favorite Training and reward treat   \n",
       "568453                         Great Honey   \n",
       "\n",
       "                                                     Text  \n",
       "0       I have bought several of the Vitality canned d...  \n",
       "1       Product arrived labeled as Jumbo Salted Peanut...  \n",
       "2       This is a confection that has been around a fe...  \n",
       "3       If you are looking for the secret ingredient i...  \n",
       "4       Great taffy at a great price.  There was a wid...  \n",
       "...                                                   ...  \n",
       "568449  Great for sesame chicken..this is a good if no...  \n",
       "568450  I'm disappointed with the flavor. The chocolat...  \n",
       "568451  These stars are small, so you can give 10-15 o...  \n",
       "568452  These are the BEST treats for training and rew...  \n",
       "568453  I am very satisfied ,product is as advertised,...  \n",
       "\n",
       "[568454 rows x 10 columns]"
      ]
     },
     "execution_count": 2,
     "metadata": {},
     "output_type": "execute_result"
    }
   ],
   "source": [
    "Amazon = pd.read_csv ( r\"F:\\PANDAS DATA\\AmazonFoodReviews.csv\" , encoding = 'utf8')\n",
    "\n",
    "Amazon"
   ]
  },
  {
   "cell_type": "markdown",
   "id": "73f6cdff",
   "metadata": {},
   "source": [
    "### DATA CLEANING"
   ]
  },
  {
   "cell_type": "code",
   "execution_count": 3,
   "id": "d5fc24c5",
   "metadata": {},
   "outputs": [
    {
     "data": {
      "text/plain": [
       "ProfileName    16\n",
       "Summary        27\n",
       "dtype: int64"
      ]
     },
     "execution_count": 3,
     "metadata": {},
     "output_type": "execute_result"
    }
   ],
   "source": [
    "Amazon.isnull ( ).sum ( ) [ Amazon.isnull ( ).sum ( ) > 0 ]"
   ]
  },
  {
   "cell_type": "code",
   "execution_count": 4,
   "id": "cf8257b6",
   "metadata": {},
   "outputs": [
    {
     "data": {
      "text/plain": [
       "Series([], dtype: int64)"
      ]
     },
     "execution_count": 4,
     "metadata": {},
     "output_type": "execute_result"
    }
   ],
   "source": [
    "Amazon = Amazon.loc [ : , [ 'Score' , 'Text' ] ]\n",
    "\n",
    "Amazon.isnull ( ).sum ( ) [ Amazon.isnull ( ).sum ( ) > 0 ]"
   ]
  },
  {
   "cell_type": "code",
   "execution_count": 5,
   "id": "f21987e4",
   "metadata": {},
   "outputs": [],
   "source": [
    "Amazon.Text = Amazon.Text.str.lower ( )"
   ]
  },
  {
   "cell_type": "markdown",
   "id": "bc001141",
   "metadata": {},
   "source": [
    "### STOP WORDS AND PUNCTUATION"
   ]
  },
  {
   "cell_type": "code",
   "execution_count": 6,
   "id": "67a56a8e",
   "metadata": {},
   "outputs": [
    {
     "data": {
      "text/plain": [
       "0         [bought, several, vitality, canned, dog, food,...\n",
       "1         [product, arrived, labeled, jumbo, salted, pea...\n",
       "2         [confection, around, centuries, light, pillowy...\n",
       "3         [looking, secret, ingredient, robitussin, beli...\n",
       "4         [great, taffy, great, price, wide, assortment,...\n",
       "                                ...                        \n",
       "568449    [great, sesame, chickenthis, good, better, res...\n",
       "568450    [im, disappointed, flavor, chocolate, notes, e...\n",
       "568451    [stars, small, give, 1015, one, training, sess...\n",
       "568452    [best, treats, training, rewarding, dog, good,...\n",
       "568453    [satisfied, product, advertised, use, cereal, ...\n",
       "Name: Text, Length: 568454, dtype: object"
      ]
     },
     "execution_count": 6,
     "metadata": {},
     "output_type": "execute_result"
    }
   ],
   "source": [
    "Stop_Words = stopwords.words ( 'english' )\n",
    "\n",
    "def text_process ( message ) :\n",
    "    \n",
    "    nopunc = [ i for i in message if i not in string.punctuation ]\n",
    "    nopunc = ''.join ( nopunc )\n",
    "    \n",
    "    return [ i for i in nopunc.split ( ) if i not in Stop_Words ]\n",
    "\n",
    "Amazon['Text'].apply ( text_process )"
   ]
  },
  {
   "cell_type": "markdown",
   "id": "b9e9fee9",
   "metadata": {},
   "source": [
    "### COUNT VECTORIZATION"
   ]
  },
  {
   "cell_type": "code",
   "execution_count": 7,
   "id": "6cad28a8",
   "metadata": {},
   "outputs": [],
   "source": [
    "Text_Count = CountVectorizer ( analyzer = text_process ).fit ( Amazon['Text'])\n",
    "\n",
    "Amazon_X = Text_Count.transform( Amazon['Text'] )"
   ]
  },
  {
   "cell_type": "code",
   "execution_count": 8,
   "id": "6b40aedb",
   "metadata": {},
   "outputs": [
    {
     "name": "stdout",
     "output_type": "stream",
     "text": [
      "Shapes\n",
      "X_Train (454763, 240626)\n",
      "Y_Train (454763,)\n",
      "X_Test (113691, 240626)\n",
      "Y_Test (113691,)\n"
     ]
    }
   ],
   "source": [
    "X_Train , X_Test , Y_Train , Y_Test = train_test_split ( Amazon_X , Amazon['Score'] , test_size = 0.2 ) \n",
    "\n",
    "print ( \"Shapes\" )\n",
    "\n",
    "print ( \"X_Train\" , X_Train.shape)\n",
    "\n",
    "print ( \"Y_Train\" , Y_Train.shape)\n",
    "\n",
    "print ( \"X_Test\" , X_Test.shape)\n",
    "\n",
    "print ( \"Y_Test\" , Y_Test.shape)"
   ]
  },
  {
   "cell_type": "markdown",
   "id": "fea88255",
   "metadata": {},
   "source": [
    "### DT MODEL"
   ]
  },
  {
   "cell_type": "code",
   "execution_count": 9,
   "id": "651223c4",
   "metadata": {},
   "outputs": [
    {
     "data": {
      "text/plain": [
       "array([[ 6485,   560,   569,   596,  2312],\n",
       "       [  796,  2663,   507,   461,  1460],\n",
       "       [  709,   432,  4193,   906,  2300],\n",
       "       [  579,   372,   789,  8350,  6020],\n",
       "       [ 1675,   911,  1605,  4252, 64189]], dtype=int64)"
      ]
     },
     "execution_count": 9,
     "metadata": {},
     "output_type": "execute_result"
    }
   ],
   "source": [
    "DT.fit ( X_Train , Y_Train )\n",
    "\n",
    "Predicted = DT.predict ( X_Test )\n",
    "\n",
    "Confusion = confusion_matrix ( Y_Test , Predicted )\n",
    "\n",
    "Confusion"
   ]
  },
  {
   "cell_type": "code",
   "execution_count": 10,
   "id": "aee3992b",
   "metadata": {},
   "outputs": [
    {
     "data": {
      "text/plain": [
       "75.53808129051552"
      ]
     },
     "execution_count": 10,
     "metadata": {},
     "output_type": "execute_result"
    }
   ],
   "source": [
    "accuracy_score ( Y_Test , Predicted  ) * 100"
   ]
  },
  {
   "cell_type": "markdown",
   "id": "3efe42df",
   "metadata": {},
   "source": [
    "### NAIVE BAYES"
   ]
  },
  {
   "cell_type": "code",
   "execution_count": 11,
   "id": "6d932648",
   "metadata": {},
   "outputs": [
    {
     "data": {
      "text/plain": [
       "array([[ 6729,   338,   552,   544,  2359],\n",
       "       [ 1333,   872,   742,   925,  2015],\n",
       "       [ 1004,   136,  2060,  2067,  3273],\n",
       "       [  636,    89,   521,  5915,  8949],\n",
       "       [ 1467,   192,   550,  4362, 66061]], dtype=int64)"
      ]
     },
     "execution_count": 11,
     "metadata": {},
     "output_type": "execute_result"
    }
   ],
   "source": [
    "NB.fit ( X_Train , Y_Train )\n",
    "\n",
    "Predict = NB.predict ( X_Test )\n",
    "\n",
    "Confusion_NB = confusion_matrix ( Y_Test , Predict )\n",
    "\n",
    "Confusion_NB"
   ]
  },
  {
   "cell_type": "code",
   "execution_count": 12,
   "id": "0224d197",
   "metadata": {
    "scrolled": true
   },
   "outputs": [
    {
     "data": {
      "text/plain": [
       "71.8060356580556"
      ]
     },
     "execution_count": 12,
     "metadata": {},
     "output_type": "execute_result"
    }
   ],
   "source": [
    "accuracy_score ( Y_Test , Predict) * 100"
   ]
  },
  {
   "cell_type": "markdown",
   "id": "c8766d6d",
   "metadata": {},
   "source": [
    "## CONVERTING THE MATRIX "
   ]
  },
  {
   "cell_type": "code",
   "execution_count": 13,
   "id": "6af1845c",
   "metadata": {
    "scrolled": true
   },
   "outputs": [],
   "source": [
    "Amazon = pd.read_csv ( r\"F:\\PANDAS DATA\\AmazonFoodReviews.csv\" , encoding = 'utf8')\n",
    "\n",
    "Amazon.Score.replace ( { 2 : 1 , 3 : 2 , 4 : 3 , 5 : 3 } , inplace = True )\n"
   ]
  },
  {
   "cell_type": "markdown",
   "id": "c8ad0819",
   "metadata": {},
   "source": [
    "### STOP WORDS AND PUNCTUATION"
   ]
  },
  {
   "cell_type": "code",
   "execution_count": 14,
   "id": "ce35d213",
   "metadata": {},
   "outputs": [
    {
     "data": {
      "text/plain": [
       "0         [I, bought, several, Vitality, canned, dog, fo...\n",
       "1         [Product, arrived, labeled, Jumbo, Salted, Pea...\n",
       "2         [This, confection, around, centuries, It, ligh...\n",
       "3         [If, looking, secret, ingredient, Robitussin, ...\n",
       "4         [Great, taffy, great, price, There, wide, asso...\n",
       "                                ...                        \n",
       "568449    [Great, sesame, chickenthis, good, better, res...\n",
       "568450    [Im, disappointed, flavor, The, chocolate, not...\n",
       "568451    [These, stars, small, give, 1015, one, trainin...\n",
       "568452    [These, BEST, treats, training, rewarding, dog...\n",
       "568453    [I, satisfied, product, advertised, I, use, ce...\n",
       "Name: Text, Length: 568454, dtype: object"
      ]
     },
     "execution_count": 14,
     "metadata": {},
     "output_type": "execute_result"
    }
   ],
   "source": [
    "Stop_Words = stopwords.words ( 'english' )\n",
    "\n",
    "def text_process ( message ) :\n",
    "    \n",
    "    nopunc = [ i for i in message if i not in string.punctuation ]\n",
    "    nopunc = ''.join ( nopunc )\n",
    "    \n",
    "    return [ i for i in nopunc.split ( ) if i not in Stop_Words ]\n",
    "\n",
    "Amazon['Text'].apply ( text_process )"
   ]
  },
  {
   "cell_type": "markdown",
   "id": "2bd65479",
   "metadata": {},
   "source": [
    "### COUNT VECTORIZATION"
   ]
  },
  {
   "cell_type": "code",
   "execution_count": 15,
   "id": "6fc0de27",
   "metadata": {},
   "outputs": [],
   "source": [
    "Text_Count = CountVectorizer ( analyzer = text_process ).fit ( Amazon['Text'])\n",
    "\n",
    "Amazon_X = Text_Count.transform( Amazon['Text'] )"
   ]
  },
  {
   "cell_type": "code",
   "execution_count": 16,
   "id": "06b4f5d7",
   "metadata": {},
   "outputs": [
    {
     "name": "stdout",
     "output_type": "stream",
     "text": [
      "Shapes\n",
      "X_Train (454763, 291795)\n",
      "Y_Train (454763,)\n",
      "X_Test (113691, 291795)\n",
      "Y_Test (113691,)\n"
     ]
    }
   ],
   "source": [
    "X_Train , X_Test , Y_Train , Y_Test = train_test_split ( Amazon_X , Amazon['Score'] , test_size = 0.2 ) \n",
    "\n",
    "print ( \"Shapes\" )\n",
    "\n",
    "print ( \"X_Train\" , X_Train.shape)\n",
    "\n",
    "print ( \"Y_Train\" , Y_Train.shape)\n",
    "\n",
    "print ( \"X_Test\" , X_Test.shape)\n",
    "\n",
    "print ( \"Y_Test\" , Y_Test.shape)"
   ]
  },
  {
   "cell_type": "markdown",
   "id": "21d5b00e",
   "metadata": {},
   "source": [
    "### DT MODEL"
   ]
  },
  {
   "cell_type": "code",
   "execution_count": 17,
   "id": "79fc38d3",
   "metadata": {},
   "outputs": [
    {
     "data": {
      "text/plain": [
       "array([[10873,   849,  4857],\n",
       "       [ 1137,  4084,  3379],\n",
       "       [ 3687,  2175, 82650]], dtype=int64)"
      ]
     },
     "execution_count": 17,
     "metadata": {},
     "output_type": "execute_result"
    }
   ],
   "source": [
    "DT.fit ( X_Train , Y_Train )\n",
    "\n",
    "Predicted = DT.predict ( X_Test )\n",
    "\n",
    "Confusion = confusion_matrix ( Y_Test , Predicted )\n",
    "\n",
    "Confusion"
   ]
  },
  {
   "cell_type": "code",
   "execution_count": 18,
   "id": "c5e3dc34",
   "metadata": {},
   "outputs": [
    {
     "data": {
      "text/plain": [
       "85.85288193436595"
      ]
     },
     "execution_count": 18,
     "metadata": {},
     "output_type": "execute_result"
    }
   ],
   "source": [
    "accuracy_score ( Y_Test , Predicted  ) * 100"
   ]
  },
  {
   "cell_type": "markdown",
   "id": "ed301705",
   "metadata": {},
   "source": [
    "### NAIVE BAYES"
   ]
  },
  {
   "cell_type": "code",
   "execution_count": 19,
   "id": "d2f5fda3",
   "metadata": {},
   "outputs": [
    {
     "data": {
      "text/plain": [
       "array([[10750,  1025,  4804],\n",
       "       [ 1654,  2226,  4720],\n",
       "       [ 3350,  1981, 83181]], dtype=int64)"
      ]
     },
     "execution_count": 19,
     "metadata": {},
     "output_type": "execute_result"
    }
   ],
   "source": [
    "NB.fit ( X_Train , Y_Train )\n",
    "\n",
    "Predict = NB.predict ( X_Test )\n",
    "\n",
    "Confusion_NB = confusion_matrix ( Y_Test , Predict )\n",
    "\n",
    "Confusion_NB"
   ]
  },
  {
   "cell_type": "code",
   "execution_count": 20,
   "id": "53a1d3fa",
   "metadata": {
    "scrolled": true
   },
   "outputs": [
    {
     "data": {
      "text/plain": [
       "84.57749514033652"
      ]
     },
     "execution_count": 20,
     "metadata": {},
     "output_type": "execute_result"
    }
   ],
   "source": [
    "accuracy_score ( Y_Test , Predict) * 100"
   ]
  }
 ],
 "metadata": {
  "kernelspec": {
   "display_name": "Python 3 (ipykernel)",
   "language": "python",
   "name": "python3"
  },
  "language_info": {
   "codemirror_mode": {
    "name": "ipython",
    "version": 3
   },
   "file_extension": ".py",
   "mimetype": "text/x-python",
   "name": "python",
   "nbconvert_exporter": "python",
   "pygments_lexer": "ipython3",
   "version": "3.9.12"
  }
 },
 "nbformat": 4,
 "nbformat_minor": 5
}
